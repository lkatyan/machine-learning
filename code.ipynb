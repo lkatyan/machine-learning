{
  "nbformat": 4,
  "nbformat_minor": 0,
  "metadata": {
    "colab": {
      "name": "Untitled3.ipynb",
      "provenance": [],
      "collapsed_sections": []
    },
    "kernelspec": {
      "name": "python3",
      "display_name": "Python 3"
    },
    "language_info": {
      "name": "python"
    }
  },
  "cells": [
    {
      "cell_type": "code",
      "execution_count": null,
      "metadata": {
        "colab": {
          "base_uri": "https://localhost:8080/"
        },
        "id": "KTwDeUiq1MkV",
        "outputId": "15f07b4a-2729-4d59-af82-58720eca95a4"
      },
      "outputs": [
        {
          "output_type": "stream",
          "name": "stdout",
          "text": [
            "/content/sample_data/test.csv\n",
            "/content/sample_data/gender_submission.csv\n",
            "/content/sample_data/train.csv\n"
          ]
        }
      ],
      "source": [
        "# This Python 3 environment comes with many helpful analytics libraries installed\n",
        "# It is defined by the kaggle/python Docker image: https://github.com/kaggle/docker-python\n",
        "# For example, here's several helpful packages to load\n",
        "\n",
        "import numpy as np # linear algebra\n",
        "import pandas as pd # data processing, CSV file I/O (e.g. pd.read_csv)\n",
        "import matplotlib.pyplot as plt\n",
        "\n",
        "# Input data files are available in the read-only \"../input/\" directory\n",
        "# For example, running this (by clicking run or pressing Shift+Enter) will list all files under the input directory\n",
        "\n",
        "import os\n",
        "for dirname, _, filenames in os.walk('/content/sample_data'):\n",
        "    for filename in filenames:\n",
        "        print(os.path.join(dirname, filename))\n",
        "\n",
        "# You can write up to 20GB to the current directory (/kaggle/working/) that gets preserved as output when you create a version using \"Save & Run All\" \n",
        "# You can also write temporary files to /kaggle/temp/, but they won't be saved outside of the current session"
      ]
    },
    {
      "cell_type": "code",
      "source": [
        "test_data = pd.read_csv('/content/sample_data/test.csv')\n",
        "print('The original database shape:', test_data.shape) \n",
        "test_data.head()"
      ],
      "metadata": {
        "colab": {
          "base_uri": "https://localhost:8080/",
          "height": 224
        },
        "id": "ZnKs7Vy59Dw_",
        "outputId": "bb4e01ee-32dc-4f7b-aa13-64bcf955a718"
      },
      "execution_count": null,
      "outputs": [
        {
          "output_type": "stream",
          "name": "stdout",
          "text": [
            "The original database shape: (418, 11)\n"
          ]
        },
        {
          "output_type": "execute_result",
          "data": {
            "text/plain": [
              "   PassengerId  Pclass                                          Name     Sex  \\\n",
              "0          892       3                              Kelly, Mr. James    male   \n",
              "1          893       3              Wilkes, Mrs. James (Ellen Needs)  female   \n",
              "2          894       2                     Myles, Mr. Thomas Francis    male   \n",
              "3          895       3                              Wirz, Mr. Albert    male   \n",
              "4          896       3  Hirvonen, Mrs. Alexander (Helga E Lindqvist)  female   \n",
              "\n",
              "    Age  SibSp  Parch   Ticket     Fare Cabin Embarked  \n",
              "0  34.5      0      0   330911   7.8292   NaN        Q  \n",
              "1  47.0      1      0   363272   7.0000   NaN        S  \n",
              "2  62.0      0      0   240276   9.6875   NaN        Q  \n",
              "3  27.0      0      0   315154   8.6625   NaN        S  \n",
              "4  22.0      1      1  3101298  12.2875   NaN        S  "
            ],
            "text/html": [
              "\n",
              "  <div id=\"df-baeefeb5-a68a-4417-bb56-864a53c5bd26\">\n",
              "    <div class=\"colab-df-container\">\n",
              "      <div>\n",
              "<style scoped>\n",
              "    .dataframe tbody tr th:only-of-type {\n",
              "        vertical-align: middle;\n",
              "    }\n",
              "\n",
              "    .dataframe tbody tr th {\n",
              "        vertical-align: top;\n",
              "    }\n",
              "\n",
              "    .dataframe thead th {\n",
              "        text-align: right;\n",
              "    }\n",
              "</style>\n",
              "<table border=\"1\" class=\"dataframe\">\n",
              "  <thead>\n",
              "    <tr style=\"text-align: right;\">\n",
              "      <th></th>\n",
              "      <th>PassengerId</th>\n",
              "      <th>Pclass</th>\n",
              "      <th>Name</th>\n",
              "      <th>Sex</th>\n",
              "      <th>Age</th>\n",
              "      <th>SibSp</th>\n",
              "      <th>Parch</th>\n",
              "      <th>Ticket</th>\n",
              "      <th>Fare</th>\n",
              "      <th>Cabin</th>\n",
              "      <th>Embarked</th>\n",
              "    </tr>\n",
              "  </thead>\n",
              "  <tbody>\n",
              "    <tr>\n",
              "      <th>0</th>\n",
              "      <td>892</td>\n",
              "      <td>3</td>\n",
              "      <td>Kelly, Mr. James</td>\n",
              "      <td>male</td>\n",
              "      <td>34.5</td>\n",
              "      <td>0</td>\n",
              "      <td>0</td>\n",
              "      <td>330911</td>\n",
              "      <td>7.8292</td>\n",
              "      <td>NaN</td>\n",
              "      <td>Q</td>\n",
              "    </tr>\n",
              "    <tr>\n",
              "      <th>1</th>\n",
              "      <td>893</td>\n",
              "      <td>3</td>\n",
              "      <td>Wilkes, Mrs. James (Ellen Needs)</td>\n",
              "      <td>female</td>\n",
              "      <td>47.0</td>\n",
              "      <td>1</td>\n",
              "      <td>0</td>\n",
              "      <td>363272</td>\n",
              "      <td>7.0000</td>\n",
              "      <td>NaN</td>\n",
              "      <td>S</td>\n",
              "    </tr>\n",
              "    <tr>\n",
              "      <th>2</th>\n",
              "      <td>894</td>\n",
              "      <td>2</td>\n",
              "      <td>Myles, Mr. Thomas Francis</td>\n",
              "      <td>male</td>\n",
              "      <td>62.0</td>\n",
              "      <td>0</td>\n",
              "      <td>0</td>\n",
              "      <td>240276</td>\n",
              "      <td>9.6875</td>\n",
              "      <td>NaN</td>\n",
              "      <td>Q</td>\n",
              "    </tr>\n",
              "    <tr>\n",
              "      <th>3</th>\n",
              "      <td>895</td>\n",
              "      <td>3</td>\n",
              "      <td>Wirz, Mr. Albert</td>\n",
              "      <td>male</td>\n",
              "      <td>27.0</td>\n",
              "      <td>0</td>\n",
              "      <td>0</td>\n",
              "      <td>315154</td>\n",
              "      <td>8.6625</td>\n",
              "      <td>NaN</td>\n",
              "      <td>S</td>\n",
              "    </tr>\n",
              "    <tr>\n",
              "      <th>4</th>\n",
              "      <td>896</td>\n",
              "      <td>3</td>\n",
              "      <td>Hirvonen, Mrs. Alexander (Helga E Lindqvist)</td>\n",
              "      <td>female</td>\n",
              "      <td>22.0</td>\n",
              "      <td>1</td>\n",
              "      <td>1</td>\n",
              "      <td>3101298</td>\n",
              "      <td>12.2875</td>\n",
              "      <td>NaN</td>\n",
              "      <td>S</td>\n",
              "    </tr>\n",
              "  </tbody>\n",
              "</table>\n",
              "</div>\n",
              "      <button class=\"colab-df-convert\" onclick=\"convertToInteractive('df-baeefeb5-a68a-4417-bb56-864a53c5bd26')\"\n",
              "              title=\"Convert this dataframe to an interactive table.\"\n",
              "              style=\"display:none;\">\n",
              "        \n",
              "  <svg xmlns=\"http://www.w3.org/2000/svg\" height=\"24px\"viewBox=\"0 0 24 24\"\n",
              "       width=\"24px\">\n",
              "    <path d=\"M0 0h24v24H0V0z\" fill=\"none\"/>\n",
              "    <path d=\"M18.56 5.44l.94 2.06.94-2.06 2.06-.94-2.06-.94-.94-2.06-.94 2.06-2.06.94zm-11 1L8.5 8.5l.94-2.06 2.06-.94-2.06-.94L8.5 2.5l-.94 2.06-2.06.94zm10 10l.94 2.06.94-2.06 2.06-.94-2.06-.94-.94-2.06-.94 2.06-2.06.94z\"/><path d=\"M17.41 7.96l-1.37-1.37c-.4-.4-.92-.59-1.43-.59-.52 0-1.04.2-1.43.59L10.3 9.45l-7.72 7.72c-.78.78-.78 2.05 0 2.83L4 21.41c.39.39.9.59 1.41.59.51 0 1.02-.2 1.41-.59l7.78-7.78 2.81-2.81c.8-.78.8-2.07 0-2.86zM5.41 20L4 18.59l7.72-7.72 1.47 1.35L5.41 20z\"/>\n",
              "  </svg>\n",
              "      </button>\n",
              "      \n",
              "  <style>\n",
              "    .colab-df-container {\n",
              "      display:flex;\n",
              "      flex-wrap:wrap;\n",
              "      gap: 12px;\n",
              "    }\n",
              "\n",
              "    .colab-df-convert {\n",
              "      background-color: #E8F0FE;\n",
              "      border: none;\n",
              "      border-radius: 50%;\n",
              "      cursor: pointer;\n",
              "      display: none;\n",
              "      fill: #1967D2;\n",
              "      height: 32px;\n",
              "      padding: 0 0 0 0;\n",
              "      width: 32px;\n",
              "    }\n",
              "\n",
              "    .colab-df-convert:hover {\n",
              "      background-color: #E2EBFA;\n",
              "      box-shadow: 0px 1px 2px rgba(60, 64, 67, 0.3), 0px 1px 3px 1px rgba(60, 64, 67, 0.15);\n",
              "      fill: #174EA6;\n",
              "    }\n",
              "\n",
              "    [theme=dark] .colab-df-convert {\n",
              "      background-color: #3B4455;\n",
              "      fill: #D2E3FC;\n",
              "    }\n",
              "\n",
              "    [theme=dark] .colab-df-convert:hover {\n",
              "      background-color: #434B5C;\n",
              "      box-shadow: 0px 1px 3px 1px rgba(0, 0, 0, 0.15);\n",
              "      filter: drop-shadow(0px 1px 2px rgba(0, 0, 0, 0.3));\n",
              "      fill: #FFFFFF;\n",
              "    }\n",
              "  </style>\n",
              "\n",
              "      <script>\n",
              "        const buttonEl =\n",
              "          document.querySelector('#df-baeefeb5-a68a-4417-bb56-864a53c5bd26 button.colab-df-convert');\n",
              "        buttonEl.style.display =\n",
              "          google.colab.kernel.accessAllowed ? 'block' : 'none';\n",
              "\n",
              "        async function convertToInteractive(key) {\n",
              "          const element = document.querySelector('#df-baeefeb5-a68a-4417-bb56-864a53c5bd26');\n",
              "          const dataTable =\n",
              "            await google.colab.kernel.invokeFunction('convertToInteractive',\n",
              "                                                     [key], {});\n",
              "          if (!dataTable) return;\n",
              "\n",
              "          const docLinkHtml = 'Like what you see? Visit the ' +\n",
              "            '<a target=\"_blank\" href=https://colab.research.google.com/notebooks/data_table.ipynb>data table notebook</a>'\n",
              "            + ' to learn more about interactive tables.';\n",
              "          element.innerHTML = '';\n",
              "          dataTable['output_type'] = 'display_data';\n",
              "          await google.colab.output.renderOutput(dataTable, element);\n",
              "          const docLink = document.createElement('div');\n",
              "          docLink.innerHTML = docLinkHtml;\n",
              "          element.appendChild(docLink);\n",
              "        }\n",
              "      </script>\n",
              "    </div>\n",
              "  </div>\n",
              "  "
            ]
          },
          "metadata": {},
          "execution_count": 145
        }
      ]
    },
    {
      "cell_type": "code",
      "source": [
        "train_data = pd.read_csv('/content/sample_data/train.csv')\n",
        "print('The original database shape:', train_data.shape) \n",
        "train_data.head()"
      ],
      "metadata": {
        "colab": {
          "base_uri": "https://localhost:8080/",
          "height": 224
        },
        "id": "soM-9_As3HmA",
        "outputId": "48513b50-dc24-4489-9760-fe0ee3bf46c8"
      },
      "execution_count": null,
      "outputs": [
        {
          "output_type": "stream",
          "name": "stdout",
          "text": [
            "The original database shape: (891, 12)\n"
          ]
        },
        {
          "output_type": "execute_result",
          "data": {
            "text/plain": [
              "   PassengerId  Survived  Pclass  \\\n",
              "0            1         0       3   \n",
              "1            2         1       1   \n",
              "2            3         1       3   \n",
              "3            4         1       1   \n",
              "4            5         0       3   \n",
              "\n",
              "                                                Name     Sex   Age  SibSp  \\\n",
              "0                            Braund, Mr. Owen Harris    male  22.0      1   \n",
              "1  Cumings, Mrs. John Bradley (Florence Briggs Th...  female  38.0      1   \n",
              "2                             Heikkinen, Miss. Laina  female  26.0      0   \n",
              "3       Futrelle, Mrs. Jacques Heath (Lily May Peel)  female  35.0      1   \n",
              "4                           Allen, Mr. William Henry    male  35.0      0   \n",
              "\n",
              "   Parch            Ticket     Fare Cabin Embarked  \n",
              "0      0         A/5 21171   7.2500   NaN        S  \n",
              "1      0          PC 17599  71.2833   C85        C  \n",
              "2      0  STON/O2. 3101282   7.9250   NaN        S  \n",
              "3      0            113803  53.1000  C123        S  \n",
              "4      0            373450   8.0500   NaN        S  "
            ],
            "text/html": [
              "\n",
              "  <div id=\"df-bffcb296-157a-48c9-91b2-213d59086c89\">\n",
              "    <div class=\"colab-df-container\">\n",
              "      <div>\n",
              "<style scoped>\n",
              "    .dataframe tbody tr th:only-of-type {\n",
              "        vertical-align: middle;\n",
              "    }\n",
              "\n",
              "    .dataframe tbody tr th {\n",
              "        vertical-align: top;\n",
              "    }\n",
              "\n",
              "    .dataframe thead th {\n",
              "        text-align: right;\n",
              "    }\n",
              "</style>\n",
              "<table border=\"1\" class=\"dataframe\">\n",
              "  <thead>\n",
              "    <tr style=\"text-align: right;\">\n",
              "      <th></th>\n",
              "      <th>PassengerId</th>\n",
              "      <th>Survived</th>\n",
              "      <th>Pclass</th>\n",
              "      <th>Name</th>\n",
              "      <th>Sex</th>\n",
              "      <th>Age</th>\n",
              "      <th>SibSp</th>\n",
              "      <th>Parch</th>\n",
              "      <th>Ticket</th>\n",
              "      <th>Fare</th>\n",
              "      <th>Cabin</th>\n",
              "      <th>Embarked</th>\n",
              "    </tr>\n",
              "  </thead>\n",
              "  <tbody>\n",
              "    <tr>\n",
              "      <th>0</th>\n",
              "      <td>1</td>\n",
              "      <td>0</td>\n",
              "      <td>3</td>\n",
              "      <td>Braund, Mr. Owen Harris</td>\n",
              "      <td>male</td>\n",
              "      <td>22.0</td>\n",
              "      <td>1</td>\n",
              "      <td>0</td>\n",
              "      <td>A/5 21171</td>\n",
              "      <td>7.2500</td>\n",
              "      <td>NaN</td>\n",
              "      <td>S</td>\n",
              "    </tr>\n",
              "    <tr>\n",
              "      <th>1</th>\n",
              "      <td>2</td>\n",
              "      <td>1</td>\n",
              "      <td>1</td>\n",
              "      <td>Cumings, Mrs. John Bradley (Florence Briggs Th...</td>\n",
              "      <td>female</td>\n",
              "      <td>38.0</td>\n",
              "      <td>1</td>\n",
              "      <td>0</td>\n",
              "      <td>PC 17599</td>\n",
              "      <td>71.2833</td>\n",
              "      <td>C85</td>\n",
              "      <td>C</td>\n",
              "    </tr>\n",
              "    <tr>\n",
              "      <th>2</th>\n",
              "      <td>3</td>\n",
              "      <td>1</td>\n",
              "      <td>3</td>\n",
              "      <td>Heikkinen, Miss. Laina</td>\n",
              "      <td>female</td>\n",
              "      <td>26.0</td>\n",
              "      <td>0</td>\n",
              "      <td>0</td>\n",
              "      <td>STON/O2. 3101282</td>\n",
              "      <td>7.9250</td>\n",
              "      <td>NaN</td>\n",
              "      <td>S</td>\n",
              "    </tr>\n",
              "    <tr>\n",
              "      <th>3</th>\n",
              "      <td>4</td>\n",
              "      <td>1</td>\n",
              "      <td>1</td>\n",
              "      <td>Futrelle, Mrs. Jacques Heath (Lily May Peel)</td>\n",
              "      <td>female</td>\n",
              "      <td>35.0</td>\n",
              "      <td>1</td>\n",
              "      <td>0</td>\n",
              "      <td>113803</td>\n",
              "      <td>53.1000</td>\n",
              "      <td>C123</td>\n",
              "      <td>S</td>\n",
              "    </tr>\n",
              "    <tr>\n",
              "      <th>4</th>\n",
              "      <td>5</td>\n",
              "      <td>0</td>\n",
              "      <td>3</td>\n",
              "      <td>Allen, Mr. William Henry</td>\n",
              "      <td>male</td>\n",
              "      <td>35.0</td>\n",
              "      <td>0</td>\n",
              "      <td>0</td>\n",
              "      <td>373450</td>\n",
              "      <td>8.0500</td>\n",
              "      <td>NaN</td>\n",
              "      <td>S</td>\n",
              "    </tr>\n",
              "  </tbody>\n",
              "</table>\n",
              "</div>\n",
              "      <button class=\"colab-df-convert\" onclick=\"convertToInteractive('df-bffcb296-157a-48c9-91b2-213d59086c89')\"\n",
              "              title=\"Convert this dataframe to an interactive table.\"\n",
              "              style=\"display:none;\">\n",
              "        \n",
              "  <svg xmlns=\"http://www.w3.org/2000/svg\" height=\"24px\"viewBox=\"0 0 24 24\"\n",
              "       width=\"24px\">\n",
              "    <path d=\"M0 0h24v24H0V0z\" fill=\"none\"/>\n",
              "    <path d=\"M18.56 5.44l.94 2.06.94-2.06 2.06-.94-2.06-.94-.94-2.06-.94 2.06-2.06.94zm-11 1L8.5 8.5l.94-2.06 2.06-.94-2.06-.94L8.5 2.5l-.94 2.06-2.06.94zm10 10l.94 2.06.94-2.06 2.06-.94-2.06-.94-.94-2.06-.94 2.06-2.06.94z\"/><path d=\"M17.41 7.96l-1.37-1.37c-.4-.4-.92-.59-1.43-.59-.52 0-1.04.2-1.43.59L10.3 9.45l-7.72 7.72c-.78.78-.78 2.05 0 2.83L4 21.41c.39.39.9.59 1.41.59.51 0 1.02-.2 1.41-.59l7.78-7.78 2.81-2.81c.8-.78.8-2.07 0-2.86zM5.41 20L4 18.59l7.72-7.72 1.47 1.35L5.41 20z\"/>\n",
              "  </svg>\n",
              "      </button>\n",
              "      \n",
              "  <style>\n",
              "    .colab-df-container {\n",
              "      display:flex;\n",
              "      flex-wrap:wrap;\n",
              "      gap: 12px;\n",
              "    }\n",
              "\n",
              "    .colab-df-convert {\n",
              "      background-color: #E8F0FE;\n",
              "      border: none;\n",
              "      border-radius: 50%;\n",
              "      cursor: pointer;\n",
              "      display: none;\n",
              "      fill: #1967D2;\n",
              "      height: 32px;\n",
              "      padding: 0 0 0 0;\n",
              "      width: 32px;\n",
              "    }\n",
              "\n",
              "    .colab-df-convert:hover {\n",
              "      background-color: #E2EBFA;\n",
              "      box-shadow: 0px 1px 2px rgba(60, 64, 67, 0.3), 0px 1px 3px 1px rgba(60, 64, 67, 0.15);\n",
              "      fill: #174EA6;\n",
              "    }\n",
              "\n",
              "    [theme=dark] .colab-df-convert {\n",
              "      background-color: #3B4455;\n",
              "      fill: #D2E3FC;\n",
              "    }\n",
              "\n",
              "    [theme=dark] .colab-df-convert:hover {\n",
              "      background-color: #434B5C;\n",
              "      box-shadow: 0px 1px 3px 1px rgba(0, 0, 0, 0.15);\n",
              "      filter: drop-shadow(0px 1px 2px rgba(0, 0, 0, 0.3));\n",
              "      fill: #FFFFFF;\n",
              "    }\n",
              "  </style>\n",
              "\n",
              "      <script>\n",
              "        const buttonEl =\n",
              "          document.querySelector('#df-bffcb296-157a-48c9-91b2-213d59086c89 button.colab-df-convert');\n",
              "        buttonEl.style.display =\n",
              "          google.colab.kernel.accessAllowed ? 'block' : 'none';\n",
              "\n",
              "        async function convertToInteractive(key) {\n",
              "          const element = document.querySelector('#df-bffcb296-157a-48c9-91b2-213d59086c89');\n",
              "          const dataTable =\n",
              "            await google.colab.kernel.invokeFunction('convertToInteractive',\n",
              "                                                     [key], {});\n",
              "          if (!dataTable) return;\n",
              "\n",
              "          const docLinkHtml = 'Like what you see? Visit the ' +\n",
              "            '<a target=\"_blank\" href=https://colab.research.google.com/notebooks/data_table.ipynb>data table notebook</a>'\n",
              "            + ' to learn more about interactive tables.';\n",
              "          element.innerHTML = '';\n",
              "          dataTable['output_type'] = 'display_data';\n",
              "          await google.colab.output.renderOutput(dataTable, element);\n",
              "          const docLink = document.createElement('div');\n",
              "          docLink.innerHTML = docLinkHtml;\n",
              "          element.appendChild(docLink);\n",
              "        }\n",
              "      </script>\n",
              "    </div>\n",
              "  </div>\n",
              "  "
            ]
          },
          "metadata": {},
          "execution_count": 146
        }
      ]
    },
    {
      "cell_type": "code",
      "source": [
        "print('The original database shape:', train_data.shape, '\\n', train_data.dtypes) \n",
        "\n",
        "# отбор числовых колонок\n",
        "df_numeric = train_data.select_dtypes(include=[np.number])\n",
        "numeric_cols = df_numeric.columns.values\n",
        "print('Numeric cols:',numeric_cols)\n",
        "\n",
        "# отбор нечисловых колонок\n",
        "df_non_numeric = train_data.select_dtypes(exclude=[np.number])\n",
        "non_numeric_cols = df_non_numeric.columns.values\n",
        "print('Non numeric cols:',non_numeric_cols)"
      ],
      "metadata": {
        "colab": {
          "base_uri": "https://localhost:8080/"
        },
        "id": "dHSFQWC_96Av",
        "outputId": "668c088a-a313-43da-8b64-7c783815f211"
      },
      "execution_count": null,
      "outputs": [
        {
          "output_type": "stream",
          "name": "stdout",
          "text": [
            "The original database shape: (891, 12) \n",
            " PassengerId      int64\n",
            "Survived         int64\n",
            "Pclass           int64\n",
            "Name            object\n",
            "Sex             object\n",
            "Age            float64\n",
            "SibSp            int64\n",
            "Parch            int64\n",
            "Ticket          object\n",
            "Fare           float64\n",
            "Cabin           object\n",
            "Embarked        object\n",
            "dtype: object\n",
            "Numeric cols: ['PassengerId' 'Survived' 'Pclass' 'Age' 'SibSp' 'Parch' 'Fare']\n",
            "Non numeric cols: ['Name' 'Sex' 'Ticket' 'Cabin' 'Embarked']\n"
          ]
        }
      ]
    },
    {
      "cell_type": "markdown",
      "source": [
        "**Из данных таблицы важными являются характеристики человека и кабина, так как от ее расположения может зависеть результат, остальное удаляем.**"
      ],
      "metadata": {
        "id": "HMyIQRz0j4Ny"
      }
    },
    {
      "cell_type": "code",
      "source": [
        "cols_to_drop = ['Name', 'Ticket', 'Embarked', 'Fare']\n",
        "train_data = train_data.drop(cols_to_drop, axis=1)\n",
        "test_data = test_data.drop(cols_to_drop, axis=1)\n",
        "print(train_data.dtypes)"
      ],
      "metadata": {
        "colab": {
          "base_uri": "https://localhost:8080/"
        },
        "id": "c-JcjDV1-gFP",
        "outputId": "5389bd36-abac-4e00-d860-883c05d656a8"
      },
      "execution_count": null,
      "outputs": [
        {
          "output_type": "stream",
          "name": "stdout",
          "text": [
            "PassengerId      int64\n",
            "Survived         int64\n",
            "Pclass           int64\n",
            "Sex             object\n",
            "Age            float64\n",
            "SibSp            int64\n",
            "Parch            int64\n",
            "Cabin           object\n",
            "dtype: object\n"
          ]
        }
      ]
    },
    {
      "cell_type": "code",
      "source": [
        "import seaborn as sns\n",
        "cols = train_data.columns[:22] \n",
        "# желтый - пропущенные данные, синий - не пропущенные\n",
        "colours = ['#000099', '#ffff00'] \n",
        "sns.heatmap(train_data[cols].isnull(), cmap=sns.color_palette(colours))"
      ],
      "metadata": {
        "colab": {
          "base_uri": "https://localhost:8080/",
          "height": 338
        },
        "id": "Zo0J4oy7AuXf",
        "outputId": "1b8643b5-555c-4263-b55d-e40a4eb161b5"
      },
      "execution_count": null,
      "outputs": [
        {
          "output_type": "execute_result",
          "data": {
            "text/plain": [
              "<matplotlib.axes._subplots.AxesSubplot at 0x7f04d3bda9d0>"
            ]
          },
          "metadata": {},
          "execution_count": 149
        },
        {
          "output_type": "display_data",
          "data": {
            "text/plain": [
              "<Figure size 432x288 with 2 Axes>"
            ],
            "image/png": "[encoded data removed]"
          },
          "metadata": {
            "needs_background": "light"
          }
        }
      ]
    },
    {
      "cell_type": "markdown",
      "source": [
        "**Из тепловой карты видно, что столбец Cabin имеет высокий процент пропусков, его можно удалить.**"
      ],
      "metadata": {
        "id": "xVrL1w4SkoHy"
      }
    },
    {
      "cell_type": "code",
      "source": [
        "cols_to_drop = ['Cabin']\n",
        "train_data = train_data.drop(cols_to_drop, axis=1)\n",
        "test_data = test_data.drop(cols_to_drop, axis=1)"
      ],
      "metadata": {
        "id": "VHX9pvSWA6uV"
      },
      "execution_count": null,
      "outputs": []
    },
    {
      "cell_type": "markdown",
      "source": [
        "**Заполняю пропуски Age медианой:**"
      ],
      "metadata": {
        "id": "kQdk3-6YBEk1"
      }
    },
    {
      "cell_type": "code",
      "source": [
        "# impute the missing values and create the missing value indicator variables for each numeric column.\n",
        "data_numeric = train_data.select_dtypes(include=[np.number])\n",
        "numeric_cols = data_numeric.columns.values\n",
        "\n",
        "for col in numeric_cols:\n",
        "    missing = train_data[col].isnull()\n",
        "    num_missing = np.sum(missing)\n",
        "    \n",
        "    if num_missing > 0:  # only do the imputation for the columns that have missing values.\n",
        "        print('imputing missing values for: {}'.format(col))\n",
        "        med = train_data[col].median()\n",
        "        train_data[col] = train_data[col].fillna(med)\n",
        "        \n",
        "data_numeric = test_data.select_dtypes(include=[np.number])\n",
        "numeric_cols = data_numeric.columns.values\n",
        "\n",
        "for col in numeric_cols:\n",
        "    missing = test_data[col].isnull()\n",
        "    num_missing = np.sum(missing)\n",
        "    \n",
        "    if num_missing > 0:  \n",
        "        med = test_data[col].median()\n",
        "        test_data[col] = test_data[col].fillna(med)"
      ],
      "metadata": {
        "colab": {
          "base_uri": "https://localhost:8080/"
        },
        "id": "jxCYo7VDBE8N",
        "outputId": "9c26e1f8-bb95-40ae-b6f9-25249572ba3d"
      },
      "execution_count": null,
      "outputs": [
        {
          "output_type": "stream",
          "name": "stdout",
          "text": [
            "imputing missing values for: Age\n"
          ]
        }
      ]
    },
    {
      "cell_type": "code",
      "source": [
        "for col in train_data.columns:\n",
        "    pct_missing = np.mean(train_data[col].isnull())\n",
        "    print('{} - {}%'.format(col, round(pct_missing*100)))"
      ],
      "metadata": {
        "colab": {
          "base_uri": "https://localhost:8080/"
        },
        "id": "1FgjlQZrBuMX",
        "outputId": "596455a4-1d66-4b83-a603-fef71f394978"
      },
      "execution_count": null,
      "outputs": [
        {
          "output_type": "stream",
          "name": "stdout",
          "text": [
            "PassengerId - 0%\n",
            "Survived - 0%\n",
            "Pclass - 0%\n",
            "Sex - 0%\n",
            "Age - 0%\n",
            "SibSp - 0%\n",
            "Parch - 0%\n"
          ]
        }
      ]
    },
    {
      "cell_type": "markdown",
      "source": [
        "Теперь процент пропущенных значений по нулям."
      ],
      "metadata": {
        "id": "5zZE-79_lEQ4"
      }
    },
    {
      "cell_type": "code",
      "source": [
        "print(train_data.dtypes)\n",
        "train_data.nunique()"
      ],
      "metadata": {
        "colab": {
          "base_uri": "https://localhost:8080/"
        },
        "id": "hFVwo_LGC0eu",
        "outputId": "dc3af6b1-9ecc-4b52-83fa-72b5d541d6e5"
      },
      "execution_count": null,
      "outputs": [
        {
          "output_type": "stream",
          "name": "stdout",
          "text": [
            "PassengerId      int64\n",
            "Survived         int64\n",
            "Pclass           int64\n",
            "Sex             object\n",
            "Age            float64\n",
            "SibSp            int64\n",
            "Parch            int64\n",
            "dtype: object\n"
          ]
        },
        {
          "output_type": "execute_result",
          "data": {
            "text/plain": [
              "PassengerId    891\n",
              "Survived         2\n",
              "Pclass           3\n",
              "Sex              2\n",
              "Age             88\n",
              "SibSp            7\n",
              "Parch            7\n",
              "dtype: int64"
            ]
          },
          "metadata": {},
          "execution_count": 153
        }
      ]
    },
    {
      "cell_type": "markdown",
      "source": [
        "**Из категориальных данных только столбец Sex, уникальных значений в нем два, поэтому кодирую его метками:**"
      ],
      "metadata": {
        "id": "c2et1vxYlNpp"
      }
    },
    {
      "cell_type": "code",
      "source": [
        "train_data[\"Sex\"] = train_data[\"Sex\"].astype('category')\n",
        "train_data[\"Sex\"] = train_data[\"Sex\"].cat.codes\n",
        "test_data[\"Sex\"] = test_data[\"Sex\"].astype('category')\n",
        "test_data[\"Sex\"] = test_data[\"Sex\"].cat.codes\n",
        "train_data.head()"
      ],
      "metadata": {
        "colab": {
          "base_uri": "https://localhost:8080/",
          "height": 206
        },
        "id": "O2b_i5i2fTiq",
        "outputId": "235f0f20-3b2f-4721-8b97-de45013ebb72"
      },
      "execution_count": null,
      "outputs": [
        {
          "output_type": "execute_result",
          "data": {
            "text/plain": [
              "   PassengerId  Survived  Pclass  Sex   Age  SibSp  Parch\n",
              "0            1         0       3    1  22.0      1      0\n",
              "1            2         1       1    0  38.0      1      0\n",
              "2            3         1       3    0  26.0      0      0\n",
              "3            4         1       1    0  35.0      1      0\n",
              "4            5         0       3    1  35.0      0      0"
            ],
            "text/html": [
              "\n",
              "  <div id=\"df-d3a5c083-f40a-455a-baaa-c46e33e38e32\">\n",
              "    <div class=\"colab-df-container\">\n",
              "      <div>\n",
              "<style scoped>\n",
              "    .dataframe tbody tr th:only-of-type {\n",
              "        vertical-align: middle;\n",
              "    }\n",
              "\n",
              "    .dataframe tbody tr th {\n",
              "        vertical-align: top;\n",
              "    }\n",
              "\n",
              "    .dataframe thead th {\n",
              "        text-align: right;\n",
              "    }\n",
              "</style>\n",
              "<table border=\"1\" class=\"dataframe\">\n",
              "  <thead>\n",
              "    <tr style=\"text-align: right;\">\n",
              "      <th></th>\n",
              "      <th>PassengerId</th>\n",
              "      <th>Survived</th>\n",
              "      <th>Pclass</th>\n",
              "      <th>Sex</th>\n",
              "      <th>Age</th>\n",
              "      <th>SibSp</th>\n",
              "      <th>Parch</th>\n",
              "    </tr>\n",
              "  </thead>\n",
              "  <tbody>\n",
              "    <tr>\n",
              "      <th>0</th>\n",
              "      <td>1</td>\n",
              "      <td>0</td>\n",
              "      <td>3</td>\n",
              "      <td>1</td>\n",
              "      <td>22.0</td>\n",
              "      <td>1</td>\n",
              "      <td>0</td>\n",
              "    </tr>\n",
              "    <tr>\n",
              "      <th>1</th>\n",
              "      <td>2</td>\n",
              "      <td>1</td>\n",
              "      <td>1</td>\n",
              "      <td>0</td>\n",
              "      <td>38.0</td>\n",
              "      <td>1</td>\n",
              "      <td>0</td>\n",
              "    </tr>\n",
              "    <tr>\n",
              "      <th>2</th>\n",
              "      <td>3</td>\n",
              "      <td>1</td>\n",
              "      <td>3</td>\n",
              "      <td>0</td>\n",
              "      <td>26.0</td>\n",
              "      <td>0</td>\n",
              "      <td>0</td>\n",
              "    </tr>\n",
              "    <tr>\n",
              "      <th>3</th>\n",
              "      <td>4</td>\n",
              "      <td>1</td>\n",
              "      <td>1</td>\n",
              "      <td>0</td>\n",
              "      <td>35.0</td>\n",
              "      <td>1</td>\n",
              "      <td>0</td>\n",
              "    </tr>\n",
              "    <tr>\n",
              "      <th>4</th>\n",
              "      <td>5</td>\n",
              "      <td>0</td>\n",
              "      <td>3</td>\n",
              "      <td>1</td>\n",
              "      <td>35.0</td>\n",
              "      <td>0</td>\n",
              "      <td>0</td>\n",
              "    </tr>\n",
              "  </tbody>\n",
              "</table>\n",
              "</div>\n",
              "      <button class=\"colab-df-convert\" onclick=\"convertToInteractive('df-d3a5c083-f40a-455a-baaa-c46e33e38e32')\"\n",
              "              title=\"Convert this dataframe to an interactive table.\"\n",
              "              style=\"display:none;\">\n",
              "        \n",
              "  <svg xmlns=\"http://www.w3.org/2000/svg\" height=\"24px\"viewBox=\"0 0 24 24\"\n",
              "       width=\"24px\">\n",
              "    <path d=\"M0 0h24v24H0V0z\" fill=\"none\"/>\n",
              "    <path d=\"M18.56 5.44l.94 2.06.94-2.06 2.06-.94-2.06-.94-.94-2.06-.94 2.06-2.06.94zm-11 1L8.5 8.5l.94-2.06 2.06-.94-2.06-.94L8.5 2.5l-.94 2.06-2.06.94zm10 10l.94 2.06.94-2.06 2.06-.94-2.06-.94-.94-2.06-.94 2.06-2.06.94z\"/><path d=\"M17.41 7.96l-1.37-1.37c-.4-.4-.92-.59-1.43-.59-.52 0-1.04.2-1.43.59L10.3 9.45l-7.72 7.72c-.78.78-.78 2.05 0 2.83L4 21.41c.39.39.9.59 1.41.59.51 0 1.02-.2 1.41-.59l7.78-7.78 2.81-2.81c.8-.78.8-2.07 0-2.86zM5.41 20L4 18.59l7.72-7.72 1.47 1.35L5.41 20z\"/>\n",
              "  </svg>\n",
              "      </button>\n",
              "      \n",
              "  <style>\n",
              "    .colab-df-container {\n",
              "      display:flex;\n",
              "      flex-wrap:wrap;\n",
              "      gap: 12px;\n",
              "    }\n",
              "\n",
              "    .colab-df-convert {\n",
              "      background-color: #E8F0FE;\n",
              "      border: none;\n",
              "      border-radius: 50%;\n",
              "      cursor: pointer;\n",
              "      display: none;\n",
              "      fill: #1967D2;\n",
              "      height: 32px;\n",
              "      padding: 0 0 0 0;\n",
              "      width: 32px;\n",
              "    }\n",
              "\n",
              "    .colab-df-convert:hover {\n",
              "      background-color: #E2EBFA;\n",
              "      box-shadow: 0px 1px 2px rgba(60, 64, 67, 0.3), 0px 1px 3px 1px rgba(60, 64, 67, 0.15);\n",
              "      fill: #174EA6;\n",
              "    }\n",
              "\n",
              "    [theme=dark] .colab-df-convert {\n",
              "      background-color: #3B4455;\n",
              "      fill: #D2E3FC;\n",
              "    }\n",
              "\n",
              "    [theme=dark] .colab-df-convert:hover {\n",
              "      background-color: #434B5C;\n",
              "      box-shadow: 0px 1px 3px 1px rgba(0, 0, 0, 0.15);\n",
              "      filter: drop-shadow(0px 1px 2px rgba(0, 0, 0, 0.3));\n",
              "      fill: #FFFFFF;\n",
              "    }\n",
              "  </style>\n",
              "\n",
              "      <script>\n",
              "        const buttonEl =\n",
              "          document.querySelector('#df-d3a5c083-f40a-455a-baaa-c46e33e38e32 button.colab-df-convert');\n",
              "        buttonEl.style.display =\n",
              "          google.colab.kernel.accessAllowed ? 'block' : 'none';\n",
              "\n",
              "        async function convertToInteractive(key) {\n",
              "          const element = document.querySelector('#df-d3a5c083-f40a-455a-baaa-c46e33e38e32');\n",
              "          const dataTable =\n",
              "            await google.colab.kernel.invokeFunction('convertToInteractive',\n",
              "                                                     [key], {});\n",
              "          if (!dataTable) return;\n",
              "\n",
              "          const docLinkHtml = 'Like what you see? Visit the ' +\n",
              "            '<a target=\"_blank\" href=https://colab.research.google.com/notebooks/data_table.ipynb>data table notebook</a>'\n",
              "            + ' to learn more about interactive tables.';\n",
              "          element.innerHTML = '';\n",
              "          dataTable['output_type'] = 'display_data';\n",
              "          await google.colab.output.renderOutput(dataTable, element);\n",
              "          const docLink = document.createElement('div');\n",
              "          docLink.innerHTML = docLinkHtml;\n",
              "          element.appendChild(docLink);\n",
              "        }\n",
              "      </script>\n",
              "    </div>\n",
              "  </div>\n",
              "  "
            ]
          },
          "metadata": {},
          "execution_count": 157
        }
      ]
    },
    {
      "cell_type": "markdown",
      "source": [
        "Нормализую данные:"
      ],
      "metadata": {
        "id": "GBWLtplxlkjJ"
      }
    },
    {
      "cell_type": "code",
      "source": [
        "# Feature scaling with StandardScaler \n",
        "from sklearn.preprocessing import StandardScaler \n",
        "scale_features_std = StandardScaler() \n",
        "features_train = scale_features_std.fit_transform(train_data) \n",
        "print(features_train)"
      ],
      "metadata": {
        "colab": {
          "base_uri": "https://localhost:8080/"
        },
        "id": "ukdkXzl5ECiE",
        "outputId": "d254b586-bd7f-4401-f52b-f10b5962be4f"
      },
      "execution_count": null,
      "outputs": [
        {
          "output_type": "stream",
          "name": "stdout",
          "text": [
            "[[-1.41421356 -1.22474487  0.81649658 -1.50516598  0.81649658  0.\n",
            "  -1.22474487]\n",
            " [-0.70710678  0.81649658 -1.22474487  1.11251398  0.81649658  0.\n",
            "   0.81649658]\n",
            " [ 0.          0.81649658  0.81649658 -0.85074599 -1.22474487  0.\n",
            "   0.81649658]\n",
            " [ 0.70710678  0.81649658 -1.22474487  0.62169899  0.81649658  0.\n",
            "   0.81649658]\n",
            " [ 1.41421356 -1.22474487  0.81649658  0.62169899 -1.22474487  0.\n",
            "  -1.22474487]]\n"
          ]
        }
      ]
    },
    {
      "cell_type": "code",
      "source": [
        "plt.hist(train_data) \n",
        "plt.title(\"Гистограмма НЕ нормализованных данных\") \n",
        "plt.show()\n",
        "plt.hist(features_train) \n",
        "plt.title(\"Гистограмма нормализованных данных\") \n",
        "plt.show()"
      ],
      "metadata": {
        "colab": {
          "base_uri": "https://localhost:8080/",
          "height": 545
        },
        "id": "PPrvGzXoEEQO",
        "outputId": "b0cc2df5-1be2-4b4b-d7d1-f5cc2b9856da"
      },
      "execution_count": null,
      "outputs": [
        {
          "output_type": "display_data",
          "data": {
            "text/plain": [
              "<Figure size 432x288 with 1 Axes>"
            ],
            "image/png": "[encoded data removed]"
          },
          "metadata": {
            "needs_background": "light"
          }
        },
        {
          "output_type": "display_data",
          "data": {
            "text/plain": [
              "<Figure size 432x288 with 1 Axes>"
            ],
            "image/png": "[encoded data removed]"
          },
          "metadata": {
            "needs_background": "light"
          }
        }
      ]
    },
    {
      "cell_type": "markdown",
      "source": [
        "**Обучаю модель:**"
      ],
      "metadata": {
        "id": "zChXHznilrCx"
      }
    },
    {
      "cell_type": "code",
      "source": [
        "from sklearn.ensemble import RandomForestClassifier\n",
        "\n",
        "y = train_data[\"Survived\"]\n",
        "\n",
        "\n",
        "features = [\"Pclass\", \"Age\", \"Sex\", \"SibSp\", \"Parch\"]\n",
        "X = pd.get_dummies(train_data[features])\n",
        "X_test = pd.get_dummies(test_data[features])\n",
        "\n",
        "model = RandomForestClassifier(n_estimators=100, max_depth=5, random_state=1)\n",
        "model.fit(X, y)\n",
        "predictions = model.predict(X_test)\n",
        "\n",
        "output = pd.DataFrame({'PassengerId': test_data.PassengerId, 'Survived': predictions})\n",
        "output.to_csv('submission.csv', index=False)"
      ],
      "metadata": {
        "id": "HlPdBrnJGLA2"
      },
      "execution_count": null,
      "outputs": []
    },
    {
      "cell_type": "markdown",
      "source": [
        "![eLOSJl65Px4.jpg](data:image/jpeg;base64,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)"
      ],
      "metadata": {
        "id": "GCwEgBdflxhA"
      }
    },
    {
      "cell_type": "markdown",
      "source": [
        "Результат: 0,76794"
      ],
      "metadata": {
        "id": "n4CXtWrAmEyg"
      }
    }
  ]
}